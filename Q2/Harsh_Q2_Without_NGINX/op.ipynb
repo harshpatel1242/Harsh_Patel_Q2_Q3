{
 "cells": [
  {
   "cell_type": "code",
   "execution_count": 2,
   "metadata": {},
   "outputs": [
    {
     "name": "stdout",
     "output_type": "stream",
     "text": [
      "This one is witout NGINX , if you are looking for NGINX check the other folder named Harsh_Q2_NGINX You know, for comparison. 🔄\n"
     ]
    }
   ],
   "source": [
    "print(\"This one is witout NGINX , if you are looking for NGINX check the other folder named \"\"Harsh_Q2_NGINX\"\" You know, for comparison. 🔄\")"
   ]
  },
  {
   "cell_type": "code",
   "execution_count": 1,
   "metadata": {},
   "outputs": [
    {
     "name": "stdout",
     "output_type": "stream",
     "text": [
      "{'summary': 'Our portfolio of 600+ digital courses on AWS Skill Builder covers 30+ AWS services and solutions . Digital training allows you to develop skills and knowledge for any of the AWS domains, from machine learning to networking, security, and more . Our courses are developed by AWS experts and our trainers are all AWS Certified .'}\n"
     ]
    }
   ],
   "source": [
    "import requests\n",
    "url = 'http://localhost:5000/summarize'\n",
    "\n",
    "input_text = {\n",
    "    'text': 'Digital training on AWS Skill Builder. Our portfolio of 600+ digital courses on AWS Skill Builder covers 30+ AWS services and solutions, and are designed to be consumed by anyone around the globe, at their pace, and at various skill levels. Digital training allows you to develop skills and knowledge for any of the AWS domains, from machine learning, to networking, security, and more, with short videos. We have the training to meet the needs of various knowledge and skill levels, whether you’re just starting to learn about the AWS Cloud, or have been working on it for years. Our courses are developed by AWS experts and our trainers are all AWS Certified. If you’re new to cloud or in a non-IT role, start with AWS Cloud Practitioner Essentials. It provides a foundational understanding of the AWS Cloud and helps learners prepare for the AWS Certified Cloud Practitioner exam.AWS Cloud Quest: Cloud Practitioner role. Explore this 3D role-playing game, designed by AWS Training and Certification, to help build practical AWS experience. To win, complete a 12-part quest, having fun while building cloud skills and engaging in a virtual city environment. Gameplay includes videos, quizzes, and hands-on exercises based on real-world business scenarios.'\n",
    "}\n",
    "response = requests.post(url, json=input_text)\n",
    "\n",
    "print(response.json())"
   ]
  },
  {
   "cell_type": "code",
   "execution_count": 2,
   "metadata": {},
   "outputs": [
    {
     "name": "stdout",
     "output_type": "stream",
     "text": [
      "{'summary': 'My hands-on experience in developing and deploying machine learning models aligns well with the challenges and opportunities present in the A.I. Engineer position at Lemay.ai . With a strong background in artificial intelligence and machine learning operations, along with a genuine passion for data, I am confident in my ability to make valuable contributions to your teams innovative work .'}\n"
     ]
    }
   ],
   "source": [
    "import requests\n",
    "url = 'http://localhost:5000/summarize'\n",
    "\n",
    "input_text = {\n",
    "    'text': 'I am excited to apply for the A.I. Engineer position at Lemay.ai and am thrilled at the prospect of contributing to your teams innovative work. With a strong background in artificial intelligence and machine learning operations (MLOps), along with a genuine passion for data, I am confident in my ability to make valuable contributions to your organization.Currently, I am serving as an AI Developer at Nokia, where I am deeply involved in tackling WAN Alarm prediction problems. In this role, I leverage sequence models such as LSTM and RNN to enhance predictive models. My hands-on experience in developing and deploying machine learning models aligns well with the challenges and opportunities present in the A.I. Engineer role at Lemay.ai'}\n",
    "response = requests.post(url, json=input_text)\n",
    "\n",
    "print(response.json())"
   ]
  },
  {
   "cell_type": "code",
   "execution_count": null,
   "metadata": {},
   "outputs": [],
   "source": []
  }
 ],
 "metadata": {
  "interpreter": {
   "hash": "a06e30aee820ff8fe24fb428cece021c5cdfc4bd84062afc0eba853e87fef366"
  },
  "kernelspec": {
   "display_name": "Python 3.11.4 64-bit",
   "language": "python",
   "name": "python3"
  },
  "language_info": {
   "codemirror_mode": {
    "name": "ipython",
    "version": 3
   },
   "file_extension": ".py",
   "mimetype": "text/x-python",
   "name": "python",
   "nbconvert_exporter": "python",
   "pygments_lexer": "ipython3",
   "version": "3.11.4"
  },
  "orig_nbformat": 4
 },
 "nbformat": 4,
 "nbformat_minor": 2
}
